{
 "cells": [
  {
   "cell_type": "markdown",
   "id": "3a9f6397-434e-4d01-ad9f-feff35cdc261",
   "metadata": {},
   "source": [
    "# Weather Correlation"
   ]
  },
  {
   "cell_type": "markdown",
   "id": "b0a3d4d6-442b-4d99-babf-2c5b461cc34e",
   "metadata": {},
   "source": [
    "Nous allons étudier ici les corrélations entre les différents facteurs météo les jours précédents et le facteur de charge éoliens"
   ]
  },
  {
   "cell_type": "code",
   "execution_count": null,
   "id": "16400055-069d-4e28-a960-040d5b2984f0",
   "metadata": {},
   "outputs": [],
   "source": [
    "#importation des packages\n",
    "\n",
    "import pandas as pd\n",
    "import numpy as np \n",
    "import matplotlib.pyplot as plt\n",
    "import seaborn as sns\n",
    "import csv\n",
    "import random"
   ]
  },
  {
   "cell_type": "code",
   "execution_count": 2,
   "id": "07f005a2-d45f-4e68-8b8d-c8478532f80e",
   "metadata": {},
   "outputs": [],
   "source": [
    "#Choix des options\n",
    "\n",
    "#Lien pour les données\n",
    "#data_path=\"\"\n",
    "#data_path=\"Données/\"\n",
    "data_path=\"../Données/\""
   ]
  },
  {
   "cell_type": "code",
   "execution_count": 5,
   "id": "ab888851-2ea7-4386-819a-64aa97a1ee40",
   "metadata": {},
   "outputs": [
    {
     "name": "stdout",
     "output_type": "stream",
     "text": [
      "Toutes les données sont différentes\n",
      "Toutes les données sont différentes\n"
     ]
    }
   ],
   "source": [
    "#On récupère toutes les données nécessaire\n",
    "from utility_tools import regroupement_data\n",
    "\n",
    "data_hToulouse_wind,data_dToulouse_wind=regroupement_data(data_path+'Data_Toulouse/Wind_power_default/',1980,2022,data_type=\"wind\")\n",
    "data_hToulouse_weather,data_dToulouse_weather=regroupement_data(data_path+'Data_Toulouse/Weather/',2000,2022,data_type=\"weather\")\n",
    "\n",
    "#print(data_hToulouse_wind.head())\n",
    "#print(data_dToulouse_wind.head())"
   ]
  },
  {
   "cell_type": "code",
   "execution_count": null,
   "id": "dd174a56-d055-47b6-af22-02ecadca1ce7",
   "metadata": {},
   "outputs": [],
   "source": []
  }
 ],
 "metadata": {
  "kernelspec": {
   "display_name": "Python 3 (ipykernel)",
   "language": "python",
   "name": "python3"
  },
  "language_info": {
   "codemirror_mode": {
    "name": "ipython",
    "version": 3
   },
   "file_extension": ".py",
   "mimetype": "text/x-python",
   "name": "python",
   "nbconvert_exporter": "python",
   "pygments_lexer": "ipython3",
   "version": "3.10.9"
  }
 },
 "nbformat": 4,
 "nbformat_minor": 5
}
